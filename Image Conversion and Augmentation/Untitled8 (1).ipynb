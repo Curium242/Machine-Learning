{
 "cells": [
  {
   "cell_type": "code",
   "execution_count": 1,
   "id": "632fb920",
   "metadata": {},
   "outputs": [],
   "source": [
    "import os\n",
    "from PIL import Image\n",
    "import matplotlib.pyplot as plt\n",
    "from torchvision import transforms"
   ]
  },
  {
   "cell_type": "code",
   "execution_count": 2,
   "id": "9eb64c34",
   "metadata": {},
   "outputs": [],
   "source": [
    "input_folder = 'D:\\SAM'\n",
    "output_folder = 'D:\\SAM new'\n",
    "\n",
    "os.makedirs(output_folder, exist_ok=True)\n",
    "\n",
    "for filename in os.listdir(input_folder):\n",
    "    if filename.endswith('.tif'):\n",
    "        img = Image.open(os.path.join(input_folder, filename))\n",
    "        img = img.convert('RGB')\n",
    "        img.save(os.path.join(output_folder, filename.replace('.tif', '.jpeg')), 'JPEG')"
   ]
  },
  {
   "cell_type": "code",
   "execution_count": 5,
   "id": "1e0089e6",
   "metadata": {},
   "outputs": [
    {
     "name": "stdout",
     "output_type": "stream",
     "text": [
      "Augmentation completed.\n"
     ]
    }
   ],
   "source": [
    "input_folder = 'D:/SAM new'  \n",
    "output_folder = 'D:/SAM aug'  \n",
    "\n",
    "augmentation_transforms = transforms.Compose([\n",
    "    transforms.RandomHorizontalFlip(),\n",
    "    transforms.RandomRotation(10),\n",
    "    transforms.ColorJitter(brightness=0.2, contrast=0.2, saturation=0.2, hue=0.1),\n",
    "    transforms.RandomResizedCrop(224, scale=(0.8, 1.0)),\n",
    "])\n",
    "\n",
    "for filename in os.listdir(input_folder):\n",
    "    img = Image.open(os.path.join(input_folder, filename))\n",
    "    for i in range(3): \n",
    "        augmented_img = augmentation_transforms(img)\n",
    "        augmented_filename = f\"{os.path.splitext(filename)[0]}_aug_{i}.jpeg\"\n",
    "        augmented_img.save(os.path.join(output_folder, augmented_filename))\n",
    "\n",
    "print(\"Augmentation completed.\")\n",
    "\n",
    "\n",
    "\n",
    "\n"
   ]
  },
  {
   "cell_type": "code",
   "execution_count": null,
   "id": "242c34e4",
   "metadata": {},
   "outputs": [],
   "source": []
  }
 ],
 "metadata": {
  "kernelspec": {
   "display_name": "Python 3 (ipykernel)",
   "language": "python",
   "name": "python3"
  },
  "language_info": {
   "codemirror_mode": {
    "name": "ipython",
    "version": 3
   },
   "file_extension": ".py",
   "mimetype": "text/x-python",
   "name": "python",
   "nbconvert_exporter": "python",
   "pygments_lexer": "ipython3",
   "version": "3.8.17"
  }
 },
 "nbformat": 4,
 "nbformat_minor": 5
}
